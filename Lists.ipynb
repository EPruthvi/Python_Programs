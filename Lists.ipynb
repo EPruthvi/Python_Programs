{
 "cells": [
  {
   "cell_type": "code",
   "execution_count": 1,
   "metadata": {},
   "outputs": [
    {
     "name": "stdout",
     "output_type": "stream",
     "text": [
      "two\n",
      "['one', 'three']\n"
     ]
    }
   ],
   "source": [
    "lst = ['one','two','three']\n",
    "\n",
    "a = lst.pop(1)\n",
    "\n",
    "print(a)\n",
    "print(lst)"
   ]
  },
  {
   "cell_type": "code",
   "execution_count": 4,
   "metadata": {},
   "outputs": [
    {
     "name": "stdout",
     "output_type": "stream",
     "text": [
      "[1, 2, 3, 4]\n",
      "4\n"
     ]
    }
   ],
   "source": [
    "lst = [1,2,3,4]\n",
    "print(lst)\n",
    "print(len(lst))"
   ]
  },
  {
   "cell_type": "raw",
   "metadata": {},
   "source": [
    "print(lst[3])"
   ]
  },
  {
   "cell_type": "code",
   "execution_count": 9,
   "metadata": {},
   "outputs": [
    {
     "name": "stdout",
     "output_type": "stream",
     "text": [
      "[1, 2, 'Pru', 2.5]\n",
      "4\n",
      "[1, 2, 'Pru', 2.5, 'Chin']\n",
      "[1, 2, 'Pru', 2.5, 'Phali', 'Chin']\n",
      "[1, 2, 'Pru', 'Phali', 'Chin']\n"
     ]
    }
   ],
   "source": [
    "lst = [1,2,'Pru',2.5]\n",
    "print(lst)\n",
    "print(len(lst))\n",
    "##print(lst(2))\n",
    "lst.append('Chin')\n",
    "print(lst)\n",
    "lst.insert(4,'Phali')\n",
    "print(lst)\n",
    "lst.remove(2.5)\n",
    "print(lst)"
   ]
  },
  {
   "cell_type": "code",
   "execution_count": 11,
   "metadata": {},
   "outputs": [
    {
     "name": "stdout",
     "output_type": "stream",
     "text": [
      "['one', 'mango', 'purple', 'num', 'fruit', 'color']\n"
     ]
    }
   ],
   "source": [
    "lst1 = ['one','mango','purple']\n",
    "lst2 = ['num','fruit','color']\n",
    "##lst1.append(lst2)\n",
    "lst1.extend(lst2)\n",
    "print(lst1)\n"
   ]
  },
  {
   "cell_type": "code",
   "execution_count": 16,
   "metadata": {},
   "outputs": [
    {
     "name": "stdout",
     "output_type": "stream",
     "text": [
      "['two', 'three', 'four', 'one']\n",
      "four\n"
     ]
    }
   ],
   "source": [
    "lst =['one','two','three','four','one']\n",
    "lst.remove('one')\n",
    "print (lst)\n",
    "\n",
    "a = lst.pop(2)\n",
    "print(a)"
   ]
  },
  {
   "cell_type": "code",
   "execution_count": 17,
   "metadata": {},
   "outputs": [
    {
     "name": "stdout",
     "output_type": "stream",
     "text": [
      "Yes\n",
      "No\n"
     ]
    }
   ],
   "source": [
    "lst = [1,2,3,4,5]\n",
    "\n",
    "if 3 in lst:\n",
    "    print(\"Yes\")\n",
    "if 6 not in lst:\n",
    "    print(\"No\")"
   ]
  },
  {
   "cell_type": "code",
   "execution_count": 23,
   "metadata": {},
   "outputs": [
    {
     "name": "stdout",
     "output_type": "stream",
     "text": [
      "Original List: [1, 3, 2, 7, 4, 7, 9, 0, 5]\n",
      "Reverse Sorted List: [9, 7, 7, 5, 4, 3, 2, 1, 0]\n"
     ]
    }
   ],
   "source": [
    "lst = [1,3,2,7,4,7,9,0,5]\n",
    "\n",
    "s_lst = sorted(lst, reverse = True)\n",
    "\n",
    "print(\"Original List:\" ,lst)\n",
    "print(\"Reverse Sorted List:\", s_lst)"
   ]
  },
  {
   "cell_type": "code",
   "execution_count": 24,
   "metadata": {},
   "outputs": [
    {
     "name": "stdout",
     "output_type": "stream",
     "text": [
      "[1, 2, 3, 4, 5, 6]\n"
     ]
    }
   ],
   "source": [
    "lst = [1,2,3,4,5]\n",
    "\n",
    "abc = lst\n",
    "abc.append(6)\n",
    "\n",
    "print(lst)"
   ]
  },
  {
   "cell_type": "code",
   "execution_count": 25,
   "metadata": {},
   "outputs": [
    {
     "name": "stdout",
     "output_type": "stream",
     "text": [
      "['My', 'name', 'is', 'Pruthvi', 'E', 'and', '7', 'december']\n"
     ]
    }
   ],
   "source": [
    "s=\"My name is Pruthvi E and 7 december\"\n",
    "s_lst = s.split()\n",
    "print(s_lst)"
   ]
  },
  {
   "cell_type": "code",
   "execution_count": 27,
   "metadata": {},
   "outputs": [
    {
     "name": "stdout",
     "output_type": "stream",
     "text": [
      "['one', 'two', 'three', 'four', 'five', 'six']\n"
     ]
    }
   ],
   "source": [
    "l = \"one,two,three,four,five,six\"\n",
    "l_lst = l.split(',')\n",
    "print(l_lst)"
   ]
  },
  {
   "cell_type": "code",
   "execution_count": 29,
   "metadata": {},
   "outputs": [
    {
     "name": "stdout",
     "output_type": "stream",
     "text": [
      "two\n"
     ]
    }
   ],
   "source": [
    "print(l_lst[-5])"
   ]
  },
  {
   "cell_type": "code",
   "execution_count": 34,
   "metadata": {},
   "outputs": [
    {
     "name": "stdout",
     "output_type": "stream",
     "text": [
      "[10, 20, 30, 40, 50, 60, 70, 80, 90]\n",
      "[10, 20, 30]\n",
      "[10, 40, 70]\n",
      "[30, 50, 70]\n",
      "[10, 20, 30, 40, 50, 60, 70, 80, 90, 'ten', 'twenty', 'thirty']\n"
     ]
    }
   ],
   "source": [
    "number = [10,20,30,40,50,60,70,80,90]\n",
    "name = ['ten','twenty','thirty']\n",
    "print(number)\n",
    "print(number[0:3])\n",
    "print(number[::3])\n",
    "print(number[2:7:2])\n",
    "print (number+name)"
   ]
  },
  {
   "cell_type": "code",
   "execution_count": 37,
   "metadata": {},
   "outputs": [
    {
     "name": "stdout",
     "output_type": "stream",
     "text": [
      "3\n",
      "2\n",
      "3\n"
     ]
    }
   ],
   "source": [
    "lst=[1,2,3,4,5,3,4,2,4,5,2]\n",
    "print(lst.count(2))\n",
    "print(lst.count(3))\n",
    "print(lst.count(4))"
   ]
  },
  {
   "cell_type": "code",
   "execution_count": 39,
   "metadata": {},
   "outputs": [
    {
     "name": "stdout",
     "output_type": "stream",
     "text": [
      "2\n",
      "3\n",
      "4\n",
      "5\n",
      "6\n",
      "0\n",
      "0\n",
      "0\n",
      "0\n",
      "0\n"
     ]
    }
   ],
   "source": [
    "lst=[1,2,3,4,5]\n",
    "\n",
    "for ele in lst:\n",
    "    print(ele+1)\n",
    "for ele in lst:\n",
    "    print(ele*0)\n",
    "    "
   ]
  },
  {
   "cell_type": "code",
   "execution_count": 40,
   "metadata": {},
   "outputs": [
    {
     "name": "stdout",
     "output_type": "stream",
     "text": [
      "[0, 1, 4, 9, 16, 25, 36, 49, 64, 81]\n"
     ]
    }
   ],
   "source": [
    "lst_squares = [i**2 for i in range(10)]\n",
    "print(lst_squares)"
   ]
  },
  {
   "cell_type": "code",
   "execution_count": 46,
   "metadata": {},
   "outputs": [
    {
     "name": "stdout",
     "output_type": "stream",
     "text": [
      "[100, 400, 900, 0, 100, 400, 900]\n",
      "2\n",
      "[400, 900, 0, 100, 400, 900]\n"
     ]
    }
   ],
   "source": [
    "lst = [-10,-20,-30,0,10,20,30]\n",
    "new_lst = [i**2 for i in lst]\n",
    "print(new_lst)\n",
    "print(new_lst.count(100))\n",
    "new_lst.remove(100)\n",
    "print(new_lst)"
   ]
  },
  {
   "cell_type": "code",
   "execution_count": 48,
   "metadata": {},
   "outputs": [
    {
     "name": "stdout",
     "output_type": "stream",
     "text": [
      "[0, 30, 40, 50]\n"
     ]
    }
   ],
   "source": [
    "lst = [-10,-20,0,30,40,50]\n",
    "new_lst=[i for i in lst if i>=0]\n",
    "print(new_lst)"
   ]
  },
  {
   "cell_type": "code",
   "execution_count": 49,
   "metadata": {},
   "outputs": [
    {
     "name": "stdout",
     "output_type": "stream",
     "text": [
      "[(0, 0), (1, 1), (2, 4), (3, 9), (4, 16)]\n"
     ]
    }
   ],
   "source": [
    "new_lst = [(i, i**2) for i in range(5)]\n",
    "print(new_lst)"
   ]
  },
  {
   "cell_type": "code",
   "execution_count": 52,
   "metadata": {},
   "outputs": [
    {
     "name": "stdout",
     "output_type": "stream",
     "text": [
      "[['a', 'e', 'i'], ['b', 'f', 'j']]\n"
     ]
    }
   ],
   "source": [
    "M = [['a','b','c','d'],['e','f','g','h'],['i','j','k','l']]\n",
    "T = [[row[i] for row in M] for i in range(2)]\n",
    "print(T)"
   ]
  },
  {
   "cell_type": "code",
   "execution_count": null,
   "metadata": {},
   "outputs": [],
   "source": []
  }
 ],
 "metadata": {
  "kernelspec": {
   "display_name": "Python 3",
   "language": "python",
   "name": "python3"
  },
  "language_info": {
   "codemirror_mode": {
    "name": "ipython",
    "version": 3
   },
   "file_extension": ".py",
   "mimetype": "text/x-python",
   "name": "python",
   "nbconvert_exporter": "python",
   "pygments_lexer": "ipython3",
   "version": "3.6.5"
  }
 },
 "nbformat": 4,
 "nbformat_minor": 2
}
